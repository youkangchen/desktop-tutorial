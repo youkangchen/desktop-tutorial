{
  "nbformat": 4,
  "nbformat_minor": 0,
  "metadata": {
    "colab": {
      "name": "Untitled7.ipynb",
      "provenance": [],
      "collapsed_sections": [],
      "include_colab_link": true
    },
    "kernelspec": {
      "name": "python3",
      "display_name": "Python 3"
    },
    "language_info": {
      "name": "python"
    }
  },
  "cells": [
    {
      "cell_type": "markdown",
      "metadata": {
        "id": "view-in-github",
        "colab_type": "text"
      },
      "source": [
        "<a href=\"https://colab.research.google.com/github/youkangchen/desktop-tutorial/blob/main/web-frameworks/web_development_with_flask_p2.ipynb\" target=\"_parent\"><img src=\"https://colab.research.google.com/assets/colab-badge.svg\" alt=\"Open In Colab\"/></a>"
      ]
    },
    {
      "cell_type": "markdown",
      "source": [
        "# Web Development with Flask: Part two"
      ],
      "metadata": {
        "id": "nq1LXc2OKNP9"
      }
    },
    {
      "cell_type": "markdown",
      "source": [
        "In our last tutorial we put together a basic Flask app and served content to the world. However, we didn't really reach our goal of making a truly dynamic and interactive. We can start to get there here by serving HTML templates with dynamic content, and by allowing our users to make selections and choices. \n",
        "\n",
        "First we need to install our packages again and add our Ngrok token. We also will install a new package, _flask-wtf_, as this will allow us to create a user form:"
      ],
      "metadata": {
        "id": "XrByVSzFKR6d"
      }
    },
    {
      "cell_type": "code",
      "execution_count": 6,
      "metadata": {
        "colab": {
          "base_uri": "https://localhost:8080/"
        },
        "id": "vnF47trUKMEj",
        "outputId": "f9a88848-f6c2-440b-8184-f94a33b23e26"
      },
      "outputs": [
        {
          "output_type": "stream",
          "name": "stdout",
          "text": [
            "Requirement already satisfied: flask-ngrok in /usr/local/lib/python3.7/dist-packages (0.0.25)\n",
            "Requirement already satisfied: Flask>=0.8 in /usr/local/lib/python3.7/dist-packages (from flask-ngrok) (1.1.4)\n",
            "Requirement already satisfied: requests in /usr/local/lib/python3.7/dist-packages (from flask-ngrok) (2.23.0)\n",
            "Requirement already satisfied: click<8.0,>=5.1 in /usr/local/lib/python3.7/dist-packages (from Flask>=0.8->flask-ngrok) (7.1.2)\n",
            "Requirement already satisfied: Jinja2<3.0,>=2.10.1 in /usr/local/lib/python3.7/dist-packages (from Flask>=0.8->flask-ngrok) (2.11.3)\n",
            "Requirement already satisfied: Werkzeug<2.0,>=0.15 in /usr/local/lib/python3.7/dist-packages (from Flask>=0.8->flask-ngrok) (1.0.1)\n",
            "Requirement already satisfied: itsdangerous<2.0,>=0.24 in /usr/local/lib/python3.7/dist-packages (from Flask>=0.8->flask-ngrok) (1.1.0)\n",
            "Requirement already satisfied: MarkupSafe>=0.23 in /usr/local/lib/python3.7/dist-packages (from Jinja2<3.0,>=2.10.1->Flask>=0.8->flask-ngrok) (2.0.1)\n",
            "Requirement already satisfied: chardet<4,>=3.0.2 in /usr/local/lib/python3.7/dist-packages (from requests->flask-ngrok) (3.0.4)\n",
            "Requirement already satisfied: urllib3!=1.25.0,!=1.25.1,<1.26,>=1.21.1 in /usr/local/lib/python3.7/dist-packages (from requests->flask-ngrok) (1.24.3)\n",
            "Requirement already satisfied: certifi>=2017.4.17 in /usr/local/lib/python3.7/dist-packages (from requests->flask-ngrok) (2021.10.8)\n",
            "Requirement already satisfied: idna<3,>=2.5 in /usr/local/lib/python3.7/dist-packages (from requests->flask-ngrok) (2.10)\n",
            "Requirement already satisfied: pyngrok in /usr/local/lib/python3.7/dist-packages (5.1.0)\n",
            "Requirement already satisfied: PyYAML in /usr/local/lib/python3.7/dist-packages (from pyngrok) (3.13)\n",
            "Requirement already satisfied: flask-wtf in /usr/local/lib/python3.7/dist-packages (1.0.0)\n",
            "Requirement already satisfied: WTForms in /usr/local/lib/python3.7/dist-packages (from flask-wtf) (3.0.1)\n",
            "Requirement already satisfied: itsdangerous in /usr/local/lib/python3.7/dist-packages (from flask-wtf) (1.1.0)\n",
            "Requirement already satisfied: Flask in /usr/local/lib/python3.7/dist-packages (from flask-wtf) (1.1.4)\n",
            "Requirement already satisfied: Jinja2<3.0,>=2.10.1 in /usr/local/lib/python3.7/dist-packages (from Flask->flask-wtf) (2.11.3)\n",
            "Requirement already satisfied: click<8.0,>=5.1 in /usr/local/lib/python3.7/dist-packages (from Flask->flask-wtf) (7.1.2)\n",
            "Requirement already satisfied: Werkzeug<2.0,>=0.15 in /usr/local/lib/python3.7/dist-packages (from Flask->flask-wtf) (1.0.1)\n",
            "Requirement already satisfied: MarkupSafe>=0.23 in /usr/local/lib/python3.7/dist-packages (from Jinja2<3.0,>=2.10.1->Flask->flask-wtf) (2.0.1)\n",
            "Authtoken saved to configuration file: /root/.ngrok2/ngrok.yml\n"
          ]
        }
      ],
      "source": [
        "!pip install flask-ngrok\n",
        "!pip install pyngrok\n",
        "!pip install flask-wtf\n",
        "\n",
        "!ngrok authtoken \"26BwdRUH2N13KfppzVRMrSUGGI6_4fwKrceCwCv7ZfzQ1yxir\""
      ]
    },
    {
      "cell_type": "markdown",
      "source": [
        "We want our website to make our web app look good, so obviously the best thing to do is get some templates/themes from someone who knows how to do such things (and make them look pretty). I have forked a basic flask template from [here](https://github.com/petersimeth/basic-flask-template) ... and kept the author credit on the main page. I have also added some extra content on the sub pages.\n",
        "\n",
        "We can clone this repo from my Github and load it into the Colab session:"
      ],
      "metadata": {
        "id": "9VEY3sDviUV0"
      }
    },
    {
      "cell_type": "code",
      "source": [
        "!git clone \"https://github.com/youkangchen/desktop-tutorial\""
      ],
      "metadata": {
        "colab": {
          "base_uri": "https://localhost:8080/"
        },
        "id": "PXO7fNqCM7bb",
        "outputId": "e8b0cd30-1e50-40e0-cb57-bfef1be46b24"
      },
      "execution_count": 7,
      "outputs": [
        {
          "output_type": "stream",
          "name": "stdout",
          "text": [
            "Cloning into 'desktop-tutorial'...\n",
            "remote: Enumerating objects: 60, done.\u001b[K\n",
            "remote: Counting objects:   1% (1/60)\u001b[K\rremote: Counting objects:   3% (2/60)\u001b[K\rremote: Counting objects:   5% (3/60)\u001b[K\rremote: Counting objects:   6% (4/60)\u001b[K\rremote: Counting objects:   8% (5/60)\u001b[K\rremote: Counting objects:  10% (6/60)\u001b[K\rremote: Counting objects:  11% (7/60)\u001b[K\rremote: Counting objects:  13% (8/60)\u001b[K\rremote: Counting objects:  15% (9/60)\u001b[K\rremote: Counting objects:  16% (10/60)\u001b[K\rremote: Counting objects:  18% (11/60)\u001b[K\rremote: Counting objects:  20% (12/60)\u001b[K\rremote: Counting objects:  21% (13/60)\u001b[K\rremote: Counting objects:  23% (14/60)\u001b[K\rremote: Counting objects:  25% (15/60)\u001b[K\rremote: Counting objects:  26% (16/60)\u001b[K\rremote: Counting objects:  28% (17/60)\u001b[K\rremote: Counting objects:  30% (18/60)\u001b[K\rremote: Counting objects:  31% (19/60)\u001b[K\rremote: Counting objects:  33% (20/60)\u001b[K\rremote: Counting objects:  35% (21/60)\u001b[K\rremote: Counting objects:  36% (22/60)\u001b[K\rremote: Counting objects:  38% (23/60)\u001b[K\rremote: Counting objects:  40% (24/60)\u001b[K\rremote: Counting objects:  41% (25/60)\u001b[K\rremote: Counting objects:  43% (26/60)\u001b[K\rremote: Counting objects:  45% (27/60)\u001b[K\rremote: Counting objects:  46% (28/60)\u001b[K\rremote: Counting objects:  48% (29/60)\u001b[K\rremote: Counting objects:  50% (30/60)\u001b[K\rremote: Counting objects:  51% (31/60)\u001b[K\rremote: Counting objects:  53% (32/60)\u001b[K\rremote: Counting objects:  55% (33/60)\u001b[K\rremote: Counting objects:  56% (34/60)\u001b[K\rremote: Counting objects:  58% (35/60)\u001b[K\rremote: Counting objects:  60% (36/60)\u001b[K\rremote: Counting objects:  61% (37/60)\u001b[K\rremote: Counting objects:  63% (38/60)\u001b[K\rremote: Counting objects:  65% (39/60)\u001b[K\rremote: Counting objects:  66% (40/60)\u001b[K\rremote: Counting objects:  68% (41/60)\u001b[K\rremote: Counting objects:  70% (42/60)\u001b[K\rremote: Counting objects:  71% (43/60)\u001b[K\rremote: Counting objects:  73% (44/60)\u001b[K\rremote: Counting objects:  75% (45/60)\u001b[K\rremote: Counting objects:  76% (46/60)\u001b[K\rremote: Counting objects:  78% (47/60)\u001b[K\rremote: Counting objects:  80% (48/60)\u001b[K\rremote: Counting objects:  81% (49/60)\u001b[K\rremote: Counting objects:  83% (50/60)\u001b[K\rremote: Counting objects:  85% (51/60)\u001b[K\rremote: Counting objects:  86% (52/60)\u001b[K\rremote: Counting objects:  88% (53/60)\u001b[K\rremote: Counting objects:  90% (54/60)\u001b[K\rremote: Counting objects:  91% (55/60)\u001b[K\rremote: Counting objects:  93% (56/60)\u001b[K\rremote: Counting objects:  95% (57/60)\u001b[K\rremote: Counting objects:  96% (58/60)\u001b[K\rremote: Counting objects:  98% (59/60)\u001b[K\rremote: Counting objects: 100% (60/60)\u001b[K\rremote: Counting objects: 100% (60/60), done.\u001b[K\n",
            "remote: Compressing objects:   2% (1/44)\u001b[K\rremote: Compressing objects:   4% (2/44)\u001b[K\rremote: Compressing objects:   6% (3/44)\u001b[K\rremote: Compressing objects:   9% (4/44)\u001b[K\rremote: Compressing objects:  11% (5/44)\u001b[K\rremote: Compressing objects:  13% (6/44)\u001b[K\rremote: Compressing objects:  15% (7/44)\u001b[K\rremote: Compressing objects:  18% (8/44)\u001b[K\rremote: Compressing objects:  20% (9/44)\u001b[K\rremote: Compressing objects:  22% (10/44)\u001b[K\rremote: Compressing objects:  25% (11/44)\u001b[K\rremote: Compressing objects:  27% (12/44)\u001b[K\rremote: Compressing objects:  29% (13/44)\u001b[K\rremote: Compressing objects:  31% (14/44)\u001b[K\rremote: Compressing objects:  34% (15/44)\u001b[K\rremote: Compressing objects:  36% (16/44)\u001b[K\rremote: Compressing objects:  38% (17/44)\u001b[K\rremote: Compressing objects:  40% (18/44)\u001b[K\rremote: Compressing objects:  43% (19/44)\u001b[K\rremote: Compressing objects:  45% (20/44)\u001b[K\rremote: Compressing objects:  47% (21/44)\u001b[K\rremote: Compressing objects:  50% (22/44)\u001b[K\rremote: Compressing objects:  52% (23/44)\u001b[K\rremote: Compressing objects:  54% (24/44)\u001b[K\rremote: Compressing objects:  56% (25/44)\u001b[K\rremote: Compressing objects:  59% (26/44)\u001b[K\rremote: Compressing objects:  61% (27/44)\u001b[K\rremote: Compressing objects:  63% (28/44)\u001b[K\rremote: Compressing objects:  65% (29/44)\u001b[K\rremote: Compressing objects:  68% (30/44)\u001b[K\rremote: Compressing objects:  70% (31/44)\u001b[K\rremote: Compressing objects:  72% (32/44)\u001b[K\rremote: Compressing objects:  75% (33/44)\u001b[K\rremote: Compressing objects:  77% (34/44)\u001b[K\rremote: Compressing objects:  79% (35/44)\u001b[K\rremote: Compressing objects:  81% (36/44)\u001b[K\rremote: Compressing objects:  84% (37/44)\u001b[K\rremote: Compressing objects:  86% (38/44)\u001b[K\rremote: Compressing objects:  88% (39/44)\u001b[K\rremote: Compressing objects:  90% (40/44)\u001b[K\rremote: Compressing objects:  93% (41/44)\u001b[K\rremote: Compressing objects:  95% (42/44)\u001b[K\rremote: Compressing objects:  97% (43/44)\u001b[K\rremote: Compressing objects: 100% (44/44)\u001b[K\rremote: Compressing objects: 100% (44/44), done.\u001b[K\n",
            "Unpacking objects:   1% (1/60)   \rUnpacking objects:   3% (2/60)   \rUnpacking objects:   5% (3/60)   \rUnpacking objects:   6% (4/60)   \rUnpacking objects:   8% (5/60)   \rUnpacking objects:  10% (6/60)   \rUnpacking objects:  11% (7/60)   \rUnpacking objects:  13% (8/60)   \rUnpacking objects:  15% (9/60)   \rUnpacking objects:  16% (10/60)   \rUnpacking objects:  18% (11/60)   \rUnpacking objects:  20% (12/60)   \rUnpacking objects:  21% (13/60)   \rUnpacking objects:  23% (14/60)   \rUnpacking objects:  25% (15/60)   \rUnpacking objects:  26% (16/60)   \rUnpacking objects:  28% (17/60)   \rUnpacking objects:  30% (18/60)   \rUnpacking objects:  31% (19/60)   \rUnpacking objects:  33% (20/60)   \rUnpacking objects:  35% (21/60)   \rUnpacking objects:  36% (22/60)   \rremote: Total 60 (delta 15), reused 49 (delta 9), pack-reused 0\u001b[K\n",
            "Unpacking objects:  38% (23/60)   \rUnpacking objects:  40% (24/60)   \rUnpacking objects:  41% (25/60)   \rUnpacking objects:  43% (26/60)   \rUnpacking objects:  45% (27/60)   \rUnpacking objects:  46% (28/60)   \rUnpacking objects:  48% (29/60)   \rUnpacking objects:  50% (30/60)   \rUnpacking objects:  51% (31/60)   \rUnpacking objects:  53% (32/60)   \rUnpacking objects:  55% (33/60)   \rUnpacking objects:  56% (34/60)   \rUnpacking objects:  58% (35/60)   \rUnpacking objects:  60% (36/60)   \rUnpacking objects:  61% (37/60)   \rUnpacking objects:  63% (38/60)   \rUnpacking objects:  65% (39/60)   \rUnpacking objects:  66% (40/60)   \rUnpacking objects:  68% (41/60)   \rUnpacking objects:  70% (42/60)   \rUnpacking objects:  71% (43/60)   \rUnpacking objects:  73% (44/60)   \rUnpacking objects:  75% (45/60)   \rUnpacking objects:  76% (46/60)   \rUnpacking objects:  78% (47/60)   \rUnpacking objects:  80% (48/60)   \rUnpacking objects:  81% (49/60)   \rUnpacking objects:  83% (50/60)   \rUnpacking objects:  85% (51/60)   \rUnpacking objects:  86% (52/60)   \rUnpacking objects:  88% (53/60)   \rUnpacking objects:  90% (54/60)   \rUnpacking objects:  91% (55/60)   \rUnpacking objects:  93% (56/60)   \rUnpacking objects:  95% (57/60)   \rUnpacking objects:  96% (58/60)   \rUnpacking objects:  98% (59/60)   \rUnpacking objects: 100% (60/60)   \rUnpacking objects: 100% (60/60), done.\n"
          ]
        }
      ]
    },
    {
      "cell_type": "markdown",
      "source": [
        "We now need to navigate to this folder so we have access to the templates from our session. We can use the basic _os_ function of Python like normal:"
      ],
      "metadata": {
        "id": "1dhBwxigmBsU"
      }
    },
    {
      "cell_type": "code",
      "source": [
        "import os\n",
        "os.chdir(\"/content/desktop-tutorial\")"
      ],
      "metadata": {
        "id": "bPZzDkz-MvZd"
      },
      "execution_count": 8,
      "outputs": []
    },
    {
      "cell_type": "markdown",
      "source": [
        "We can look at the basic structure of the repo if we visit the cloned [URL](https://github.com/MJMortensonWarwick/basic-flask-template) above. We will see there is a folder called \"templates\" which has the HTML code will run (and links in the CSS/JS from the standard Bootstrap URLs). In fact this is the only bit we are using from the repo.\n",
        "\n",
        "The templates folder is structured as follows:\n",
        "<br><br>templates<br>\n",
        "&nbsp;&nbsp;|--&nbsp;includes<br>\n",
        "&nbsp;&nbsp;&nbsp;&nbsp;&nbsp; |--&nbsp;_navbar.html<br>\n",
        "&nbsp;&nbsp;|--&nbsp;formpage.html<br>\n",
        "&nbsp;&nbsp;|--&nbsp;index.html<br>\n",
        "&nbsp;&nbsp;|--&nbsp;layout.html<br>\n",
        "&nbsp;&nbsp;|--&nbsp;list.html<br>\n",
        "&nbsp;&nbsp;|--&nbsp;table.html<br><br>\n",
        "\n",
        "Most of these should be fairly clear from our previous work on HTML. We should note that we are following a standard practice of extending a base template so we don't need to include all of the HTML template code in every file. E.g. if we look at the \"index.html\" file it starts with _{% extends 'layout.html' %}_. This means all of the code in \"layout.html\" is also included.\n",
        "\n",
        "The index.html page is unchanged from the original repo. Let's start by running just this:"
      ],
      "metadata": {
        "id": "NTJIFySLjAq8"
      }
    },
    {
      "cell_type": "code",
      "source": [
        "from flask import *\n",
        "from flask_ngrok import run_with_ngrok\n",
        "\n",
        "app = Flask(__name__)\n",
        "\n",
        "app_data = {\n",
        "    \"name\":         \"Peter's Starter Template for a Flask Web App\",\n",
        "    \"description\":  \"A basic Flask app using bootstrap for layout\",\n",
        "    \"author\":       \"Peter Simeth\",\n",
        "    \"html_title\":   \"Peter's Starter Template for a Flask Web App\",\n",
        "    \"project_name\": \"Starter Template\",\n",
        "    \"keywords\":     \"flask, webapp, template, basic\"\n",
        "}\n",
        "\n",
        "\n",
        "@app.route('/')\n",
        "def index():\n",
        "    return render_template('index.html', app_data=app_data)\n",
        "\n",
        "run_with_ngrok(app)\n",
        "app.run()"
      ],
      "metadata": {
        "colab": {
          "base_uri": "https://localhost:8080/"
        },
        "id": "UJFsCrgWNqk0",
        "outputId": "8b677063-c5b9-4b4d-d8e0-be31ea2f7de2"
      },
      "execution_count": 9,
      "outputs": [
        {
          "output_type": "stream",
          "name": "stdout",
          "text": [
            " * Serving Flask app \"__main__\" (lazy loading)\n",
            " * Environment: production\n",
            "\u001b[31m   WARNING: This is a development server. Do not use it in a production deployment.\u001b[0m\n",
            "\u001b[2m   Use a production WSGI server instead.\u001b[0m\n",
            " * Debug mode: off\n"
          ]
        },
        {
          "output_type": "stream",
          "name": "stderr",
          "text": [
            " * Running on http://127.0.0.1:5000/ (Press CTRL+C to quit)\n"
          ]
        },
        {
          "output_type": "stream",
          "name": "stdout",
          "text": [
            " * Running on http://7e95-35-245-78-245.ngrok.io\n",
            " * Traffic stats available on http://127.0.0.1:4040\n"
          ]
        },
        {
          "output_type": "stream",
          "name": "stderr",
          "text": [
            "127.0.0.1 - - [11/Mar/2022 14:55:56] \"\u001b[37mGET / HTTP/1.1\u001b[0m\" 200 -\n",
            "127.0.0.1 - - [11/Mar/2022 14:56:17] \"\u001b[37mGET / HTTP/1.1\u001b[0m\" 200 -\n",
            "127.0.0.1 - - [11/Mar/2022 14:56:17] \"\u001b[37mGET /static/youkangchen.jpg HTTP/1.1\u001b[0m\" 200 -\n"
          ]
        }
      ]
    },
    {
      "cell_type": "markdown",
      "source": [
        "Clicking on the second URL listed (\"http://{IP}.ngrok.io\") our web app should open and we can see a much more attractive web page than we have so far (thanks Peter Simeth!).\n",
        "\n",
        "The actual Python/controller code is fairly similar to the code we've seen before with two exceptions.\n",
        "\n",
        "Firstly, we have an app_data dictionary which includes all the meta data for the app. We can go ahead and change any of this should we want to. When we call the web page we pass this dictionary to the web page via the command _app_data=app_data_ in our _render\\_template()_ function (more on this below).\n",
        "\n",
        "Have a look in the \"layout.html\" file in Github and we can see the following on line 6:<br><br>\n",
        "\\<meta name=\"description\" content=\"{{ app_data['description'] }}\">\n",
        "<br><br>\n",
        "The two curly brackets (\"{{ }}\") allow us to contain Python code in our HTML page ... in this case the value associated with the key 'description' in our 'app_data' dictionary.\n",
        "\n",
        "The second difference from our previous work is that rather than just returning the HTML code we want to display, instead we pass the \"index.html\" template from the folder by using Flask's _render\\_template()_ function. Using this function also allows us to pass the \"app_data\" dictionary.\n",
        "\n",
        "Let's carry on in this vein by adding some web pages that have been further customised to include Python dynamism. However, we first nee to stop the above process by clicking on the stop button."
      ],
      "metadata": {
        "id": "zbG-o3kymmsP"
      }
    },
    {
      "cell_type": "code",
      "source": [
        "from flask import *\n",
        "from flask_ngrok import run_with_ngrok\n",
        "import pandas as pd\n",
        "\n",
        "app = Flask(__name__)\n",
        "\n",
        "app_data = {\n",
        "    \"name\":         \"Peter's Starter Template for a Flask Web App\",\n",
        "    \"description\":  \"A basic Flask app using bootstrap for layout\",\n",
        "    \"author\":       \"Peter Simeth\",\n",
        "    \"html_title\":   \"Peter's Starter Template for a Flask Web App\",\n",
        "    \"project_name\": \"Starter Template\",\n",
        "    \"keywords\":     \"flask, webapp, template, basic\"\n",
        "}\n",
        "\n",
        "\n",
        "@app.route('/')\n",
        "def index():\n",
        "    return render_template('index.html', app_data=app_data)\n",
        "\n",
        "\n",
        "@app.route(\"/list\")\n",
        "def list():\n",
        "\tdf = pd.read_csv(\"NamesTwo.csv\")\n",
        "\treturn render_template('list.html', df=df, app_data=app_data)\n",
        "\n",
        "@app.route(\"/table\")\n",
        "def table():\n",
        "\tdf = pd.read_csv(\"NamesTwo.csv\")\n",
        "\treturn render_template('table.html', df=df, app_data=app_data)\n",
        "\n",
        "run_with_ngrok(app)\n",
        "app.run()"
      ],
      "metadata": {
        "colab": {
          "base_uri": "https://localhost:8080/"
        },
        "id": "CflbLnntg7Wq",
        "outputId": "d955ce9e-f77a-457a-b3b1-b3cfb7db52b1"
      },
      "execution_count": null,
      "outputs": [
        {
          "output_type": "stream",
          "name": "stdout",
          "text": [
            " * Serving Flask app \"__main__\" (lazy loading)\n",
            " * Environment: production\n",
            "\u001b[31m   WARNING: This is a development server. Do not use it in a production deployment.\u001b[0m\n",
            "\u001b[2m   Use a production WSGI server instead.\u001b[0m\n",
            " * Debug mode: off\n"
          ]
        },
        {
          "output_type": "stream",
          "name": "stderr",
          "text": [
            " * Running on http://127.0.0.1:5000/ (Press CTRL+C to quit)\n"
          ]
        },
        {
          "output_type": "stream",
          "name": "stdout",
          "text": [
            " * Running on http://5c97-34-90-41-234.ngrok.io\n",
            " * Traffic stats available on http://127.0.0.1:4040\n"
          ]
        },
        {
          "output_type": "stream",
          "name": "stderr",
          "text": [
            "127.0.0.1 - - [08/Mar/2022 13:00:28] \"\u001b[37mGET / HTTP/1.1\u001b[0m\" 200 -\n",
            "127.0.0.1 - - [08/Mar/2022 13:00:28] \"\u001b[33mGET /favicon.ico HTTP/1.1\u001b[0m\" 404 -\n",
            "127.0.0.1 - - [08/Mar/2022 13:00:30] \"\u001b[37mGET /table HTTP/1.1\u001b[0m\" 200 -\n",
            "127.0.0.1 - - [08/Mar/2022 13:00:33] \"\u001b[37mGET /list HTTP/1.1\u001b[0m\" 200 -\n"
          ]
        }
      ]
    },
    {
      "cell_type": "markdown",
      "source": [
        "In order to avoid some of the potential challenges of integrating our code to a real database, the above code uses a bit of a cheat by reading in a CSV data file (\"NamesTwo.csv\"). You can read the file on the Github if you wish but it will also now be visible on the web pages we are building. \n",
        "\n",
        "We are now serving two additional pages \"/list.html\" and \"/table.html\". In both of these pages we are passing our data table and using these on the page. You can look at the pages either by clicking through on the link to the homepage an then using the navbar, or otherwise by directly accessing the URLs (\"http://{IP_ADDRESS.ngrok.io/list\" and \"http://{IP_ADDRESS.ngrok.io/table\".\n",
        "\n",
        "\n",
        "If we look at the template file for each in the Github we can see how our HTML code is modified to include this Python functionality. Let's start with \"templates/list.html\". The section in question is lines 7 to 15:\n",
        "<br><br>\n",
        "\\{% for key,value in df.iterrows() %}<br>\n",
        "        &nbsp;&nbsp;&nbsp;\\<ul><br>\n",
        "            &nbsp;&nbsp;&nbsp;&nbsp;&nbsp;&nbsp; \\<li>\\<b>Name: {{ value['Name'] }}\\</b>\\</li><br>\n",
        "            &nbsp;&nbsp;&nbsp;&nbsp;&nbsp;&nbsp;\\<li>ID: {{ value['ID'] }}\\</li><br>\n",
        "            &nbsp;&nbsp;&nbsp;&nbsp;&nbsp;&nbsp;\\<li>Email: {{ value['Email'] }}\\</li><br>\n",
        "            &nbsp;&nbsp;&nbsp;&nbsp;&nbsp;&nbsp;\\<li>Age: {{ value['Age'] }}\\</li><br>\n",
        "            &nbsp;&nbsp;&nbsp;&nbsp;&nbsp;&nbsp;\\<li>Specialism: {{ value['Specialism'] }}\\</li><br>\n",
        "        &nbsp;&nbsp;&nbsp;\\</ul><br>\n",
        "        {% endfor %}\n",
        "<br><br>\n",
        "The code is a mixture of HTML as we covered on Tuesday, and more general programming/Python elements. Our code beings with a for loop using the Pandas' function _iterrows()_ (i.e. __iterate__ through the dataframe __rows__). In each row we want the key and the value for that record. Note we again use curly brackets, this time followed by a percent (%) to denote that this is \"foreign\" code (not native HTML/CSS).\n",
        "\n",
        "We then create a unordered list using the standard HTML \"\\<ul>\". For each listed item (\"\\<li>\") we get the data associated with each as a simple dictionary lookup. Note we also end the for loop (again with curly brackets and percents). This is not something we need to do in native Python but it makes it easier to recognise that we are now going back to normal HTML code.\n",
        "\n",
        "You can also look at \"templates/table.html\", although we gon't through it in full here. Again it uses the same _iterrows()_ function but adds everything into table cells (\"\\<td>\" in HTML).\n",
        "\n",
        "We have one last task to complete - our most difficult one yet - which will be adding in a user form which can add data to our pseudo-database (the Pandas dataframe):"
      ],
      "metadata": {
        "id": "IH9kMpA_JNaC"
      }
    },
    {
      "cell_type": "code",
      "source": [
        "import pandas as pd\n",
        "from flask_wtf import FlaskForm\n",
        "from wtforms import StringField, DateTimeField, SubmitField, EmailField\n",
        "from wtforms.validators import DataRequired\n",
        "from wtforms import validators\n",
        "\n",
        "app = Flask(__name__)\n",
        "app.config['SECRET_KEY'] = 'you-will-never-guess' # don't do this in production\n",
        "\n",
        "from flask_wtf.csrf import CSRFProtect\n",
        "csrf = CSRFProtect(app)\n",
        "\n",
        "class UserForm(FlaskForm):\n",
        "\tname = StringField('Name', validators=[DataRequired()])\n",
        "\temail = EmailField('Email', validators=[DataRequired()])\n",
        "\tdob = DateTimeField('Date of Birth', format='%d/%m/%Y', validators=[DataRequired()])\n",
        "\tspecialism = StringField('Specialism', validators=[DataRequired()])\n",
        "\n",
        "@app.route('/')\n",
        "def index():\n",
        "    return render_template('index.html', app_data=app_data)\n",
        "\n",
        "@app.route(\"/list\")\n",
        "def list():\n",
        "\tdf = pd.read_csv(\"NamesTwo.csv\")\n",
        "\treturn render_template('list.html', df=df, app_data=app_data)\n",
        "\n",
        "@app.route(\"/table\")\n",
        "def table():\n",
        "\tdf = pd.read_csv(\"NamesTwo.csv\")\n",
        "\treturn render_template('table.html', df=df, app_data=app_data)\n",
        "\n",
        "@app.route(\"/formpage\", methods=('GET', 'POST'))\n",
        "def formpage():\n",
        "\tdf = pd.read_csv(\"NamesTwo.csv\")\n",
        "\tform = UserForm()\n",
        "\treturn render_template('formpage.html', df=df, form=form, app_data=app_data)\n",
        " \n",
        "run_with_ngrok(app)\n",
        "app.run()"
      ],
      "metadata": {
        "colab": {
          "base_uri": "https://localhost:8080/"
        },
        "id": "Vm3j8Bb5hU2N",
        "outputId": "2205ca28-0649-491f-ed66-f97aa736091d"
      },
      "execution_count": null,
      "outputs": [
        {
          "output_type": "stream",
          "name": "stdout",
          "text": [
            " * Serving Flask app \"__main__\" (lazy loading)\n",
            " * Environment: production\n",
            "\u001b[31m   WARNING: This is a development server. Do not use it in a production deployment.\u001b[0m\n",
            "\u001b[2m   Use a production WSGI server instead.\u001b[0m\n",
            " * Debug mode: off\n"
          ]
        },
        {
          "output_type": "stream",
          "name": "stderr",
          "text": [
            " * Running on http://127.0.0.1:5000/ (Press CTRL+C to quit)\n"
          ]
        },
        {
          "output_type": "stream",
          "name": "stdout",
          "text": [
            " * Running on http://5e21-34-90-41-234.ngrok.io\n",
            " * Traffic stats available on http://127.0.0.1:4040\n"
          ]
        },
        {
          "output_type": "stream",
          "name": "stderr",
          "text": [
            "127.0.0.1 - - [08/Mar/2022 13:00:50] \"\u001b[37mGET / HTTP/1.1\u001b[0m\" 200 -\n",
            "127.0.0.1 - - [08/Mar/2022 13:00:51] \"\u001b[33mGET /favicon.ico HTTP/1.1\u001b[0m\" 404 -\n",
            "127.0.0.1 - - [08/Mar/2022 13:00:52] \"\u001b[37mGET /formpage HTTP/1.1\u001b[0m\" 200 -\n",
            "127.0.0.1 - - [08/Mar/2022 13:01:00] \"\u001b[33mPOST /submit HTTP/1.1\u001b[0m\" 404 -\n"
          ]
        }
      ]
    },
    {
      "cell_type": "markdown",
      "source": [
        "There are a few new bits in this code. First of all we add a rubbish 'SECRET_KEY' (basically a password for the app config security. This is done to allow us to create CSRF protection to our form ... which we implement via the _CSFRProtect(app)_ function. CSFR stands for Cross-Site Forgery Request. You can read more about CSRF [here](https://owasp.org/www-community/attacks/csrf), but the TL;DR version is that they are cyber attacks that trick users into changing things on their account via forms. CSFR protects any POST request being corrupted by a hacker.\n",
        "\n",
        "Secondly we create our form as a class \"UserForm\" which inherits (i.e. follows the blueprint of) the built-in class _FlaskForm_. In otherwords, \"UserForm\" is a custom class we have built, but it is a sub-class of the standard _FlaskForm_ solution. Our form contains a bunch of form fields we want the user to fill in of various types ... similar to datatypes in databases. The full list is:\n",
        "* name: a string/text field\n",
        "* email: an email address field\n",
        "* dob: a datetime field\n",
        "* specialism: also a string/text field\n",
        "\n",
        "In each of these we use \"Validators\" ... specifically _DataRequired()_ which means the user must add this data to complete the form. There are bunch of validators we can use and we can also create custom ones, but let's keep it simple for now.\n",
        "\n",
        "Finally we have a new route/function to our final page (\"/form\" which leads to the \"templates/formpage.html\" file. Unlike in our previous examples here we specify two HTTP request methods - \"GET\" and \"POST\". The other pages have skipped this, which means defaulting to GET as the basic mechanism. On our form page we will want the user to be able to see the content of the page (a GET request) but we will also want users to fill in the form and send the data (a POST request).\n",
        "\n",
        "Other than this (so far) it is much the same, with the only difference being we specify we want the \"UserForm\" and we pass that to the page. Let's again see how this looks on the HTML templae (from the Github). The key lines are 7 to 26:\n",
        "<br><br>\n",
        "\\<form method=\"POST\" action=\"submit\" novalidate><br>\n",
        "            &nbsp;&nbsp;&nbsp;{{ form.csrf_token }}<br>\n",
        "            &nbsp;&nbsp;&nbsp;{{ form.name.label }} {{ form.name(size=20) }}<br>\n",
        "            &nbsp;&nbsp;&nbsp;{% for error in form.name.errors %}<br>\n",
        "            &nbsp;&nbsp;&nbsp;&nbsp;&nbsp;&nbsp;    \\<span style=\"color: red;\">[{{ error }}]\\</span><br>\n",
        "            &nbsp;&nbsp;&nbsp;{% endfor %}</br>\n",
        "            &nbsp;&nbsp;&nbsp;{{ form.email.label }} {{ form.email(size=60) }}<br>\n",
        "            &nbsp;&nbsp;&nbsp;{% for error in form.email.errors %}<br>\n",
        "            &nbsp;&nbsp;&nbsp;&nbsp;&nbsp;&nbsp;    \\<span style=\"color: red;\">[{{ error }}]\\</span><br>\n",
        "            &nbsp;&nbsp;&nbsp;{% endfor %}</br>\n",
        "            &nbsp;&nbsp;&nbsp;{{ form.dob.label }} {{ form.dob(size=20) }}<br>\n",
        "            &nbsp;&nbsp;&nbsp;{% for error in form.dob.errors %}<br>\n",
        "            &nbsp;&nbsp;&nbsp;&nbsp;&nbsp;&nbsp;    \\<span style=\"color: red;\">[{{ error }}]<\\/span><br>\n",
        "            &nbsp;&nbsp;&nbsp;{% endfor %}</br>\n",
        "            &nbsp;&nbsp;&nbsp;{{ form.specialism.label }} {{ form.specialism(size=40) }}<br>\n",
        "            &nbsp;&nbsp;&nbsp;{% for error in form.specialism.errors %}<br>\n",
        "            &nbsp;&nbsp;&nbsp;&nbsp;&nbsp;&nbsp;    \\<span style=\"color: red;\">[{{ error }}]\\</span><br>\n",
        "            &nbsp;&nbsp;&nbsp;{% endfor %}</br>\n",
        "            &nbsp;&nbsp;&nbsp;\\<input type=\"submit\" value=\"submit\"><br>\n",
        "        \\</form>\n",
        "<br><br>\n",
        "\n",
        "Phew! A lot of code. However, when we start to dig into it there is not too much which should be too scary. Firstly we start by using the HTML method of \"POST\" to say this is a form that can be used to add data to our app. Secondly, we link up our CSFR protection by adding a token ... \"{{ form.csfr.token }}\".\n",
        "\n",
        "After this we'll see the same approach multiple times for each of the items in our form. Each item will have a label (an internal name) which will be the variable name from the \"UserForm\". E.g. our first element is the person's name, and our \"UserForm\" has this stored with the label \"name\". We also then have the form element, and in each case we have allocated a pixel size for that form.\n",
        "\n",
        "We also have a bit of code to deal with errors. Each form item could be incorrectly completed by the user in multiple ways (based on the validators we use) and Flask will generate an appropriate error message for each. Because of this we run another for loop to go through each error associated with this label. In most cases (we hope) there will be no errors - so the for loop returns nothing. If there is one error, then the for loop returns just that one. If there are multiple we loop through each on a separate line.\n",
        "\n",
        "Finally, at the bottom of our form, we have a submit button as pure HTML (\"\\<input type=\"submit\" value=\"submit\">\").\n",
        "\n",
        "We can view the page as before by running this code (remember to stop the last one!) and navigating to forms on the navbar or directly typing the URL (\"http://{IP_ADDRESS}.ngrok.io/formpage\"). However, if we fill in the form and click submit ...<br><br>\n",
        "nothing happens. We haven't told Flask what to do if it receives a POST. We can create a function to fix this:"
      ],
      "metadata": {
        "id": "ZJ2INAsoRQZI"
      }
    },
    {
      "cell_type": "code",
      "source": [
        "@app.route('/submit', methods=('GET', 'POST'))\n",
        "def submit():\n",
        "\tform = UserForm()\n",
        "\tdf = pd.read_csv(\"NamesTwo.csv\")\n",
        "\tif request.method == \"POST\":\n",
        "\t\tif form.validate_on_submit():\n",
        "\t\t\tmax_id = df['ID'].max()\n",
        "\t\t\tnew_id = max_id + 1\n",
        "\t\t\tdf2 = pd.DataFrame({'ID':[new_id], \n",
        "\t\t\t\t'Name':[request.form.get(\"name\")],\n",
        "\t\t\t\t'Email':[request.form.get(\"email\")],\n",
        "\t\t\t\t'Age':[request.form.get(\"dob\")],\n",
        "\t\t\t\t'Specialism':[request.form.get(\"specialism\")]\n",
        "\t\t\t})\n",
        "\t\t\tdf2['Age'] = pd.to_datetime(df2['Age'], dayfirst=True)\n",
        "\t\t\tnow = pd.Timestamp('now')\n",
        "\t\t\tdf2['Age'] = (now - df2['Age']).astype('<m8[Y]')\n",
        "\t\t\tdf = pd.concat([df, df2], ignore_index=True)\n",
        "\t\t\tdf.to_csv(\"NamesTwo.csv\", index=False)\n",
        "\t\t\treturn render_template('table.html', df=df, app_data=app_data)\n",
        "\n",
        "\treturn render_template('formpage.html', df=df, form=form, app_data=app_data)"
      ],
      "metadata": {
        "id": "zp3mxyAjhrfC"
      },
      "execution_count": null,
      "outputs": []
    },
    {
      "cell_type": "markdown",
      "source": [
        "Again, a lot of code, but if we break it down we can see what it does. In fact much of it is just there to put data in our pseudo-database (and so we wouldn't follow many of these exactly in the real world).\n",
        "\n",
        "We start with a route as usual ... \"/submit\" ... but rather than this being a page URL the \"submit\" label is the value passed by our submit button (check the above HTML code). Again we specify the form and the dataset as before.\n",
        "\n",
        "After this we have two if conditionals - checking the request equals \"POST\" (i.e. that we submitted the form) and checking the form was correctly completed ... _form.validate_on_submit()_. If both these equal True then we do the following steps:\n",
        "* get the maximum (highest) ID value;\n",
        "* add one to this (i.e. autoincrement the ID value);\n",
        "* add the form values to a new dataframe;\n",
        "* convert the \"dob\" input to a date object;\n",
        "* calculate the person's age by subtracting the date today from their \"dob\" and storing this as a year value;\n",
        "* concatenating the main dataframe with the new row we have inputed (concatenating means adding this new record to the bottom of the old records);\n",
        "* saving the dataframe as a CV (overwriting the old one)\n",
        "* redirecting the user to the /table route (\"/templates/table.html\") where they can see the updated table with their new record included.\n",
        "\n",
        "Finally, we have an alternative path if we fail one or both if conditions ... to return to the formpage with the errors displayed (if relevant).\n",
        "\n",
        "Now it maybe that some of this code is challenging, but really this function could be anything and your use-cases may be completely different. However, we have seen how we can elevate \"flat\" HTML/CSS code into something more dynamic.\n",
        "\n",
        "Let's put all the code together (below) and try it for yourself by running the code and filling in the form!\n"
      ],
      "metadata": {
        "id": "RiXtmpbmgDMB"
      }
    },
    {
      "cell_type": "code",
      "source": [
        "import pandas as pd\n",
        "from flask_wtf import FlaskForm\n",
        "from wtforms import StringField, DateTimeField, SubmitField, EmailField\n",
        "from wtforms.validators import DataRequired\n",
        "from wtforms import validators\n",
        "\n",
        "app = Flask(__name__)\n",
        "app.config['SECRET_KEY'] = 'you-will-never-guess' # don't do this in production\n",
        "\n",
        "from flask_wtf.csrf import CSRFProtect\n",
        "csrf = CSRFProtect(app)\n",
        "\n",
        "class UserForm(FlaskForm):\n",
        "\tname = StringField('Name', validators=[DataRequired()])\n",
        "\temail = EmailField('Email', validators=[DataRequired()])\n",
        "\tdob = DateTimeField('Date of Birth', format='%d/%m/%Y', validators=[DataRequired()])\n",
        "\tspecialism = StringField('Specialism', validators=[DataRequired()])\n",
        "\n",
        "@app.route('/')\n",
        "def index():\n",
        "    return render_template('index.html', app_data=app_data)\n",
        "\n",
        "@app.route(\"/list\")\n",
        "def list():\n",
        "\tdf = pd.read_csv(\"NamesTwo.csv\")\n",
        "\treturn render_template('list.html', df=df, app_data=app_data)\n",
        "\n",
        "@app.route(\"/table\")\n",
        "def table():\n",
        "\tdf = pd.read_csv(\"NamesTwo.csv\")\n",
        "\treturn render_template('table.html', df=df, app_data=app_data)\n",
        "\n",
        "@app.route(\"/formpage\", methods=('GET', 'POST'))\n",
        "def formpage():\n",
        "\tdf = pd.read_csv(\"NamesTwo.csv\")\n",
        "\tform = UserForm()\n",
        "\treturn render_template('formpage.html', df=df, form=form, app_data=app_data)\n",
        "\n",
        "@app.route('/submit', methods=('GET', 'POST'))\n",
        "def submit():\n",
        "\tform = UserForm()\n",
        "\tdf = pd.read_csv(\"NamesTwo.csv\")\n",
        "\tif request.method == \"POST\":\n",
        "\t\tif form.validate_on_submit():\n",
        "\t\t\tmax_id = df['ID'].max()\n",
        "\t\t\tnew_id = max_id + 1\n",
        "\t\t\tdf2 = pd.DataFrame({'ID':[new_id], \n",
        "\t\t\t\t'Name':[request.form.get(\"name\")],\n",
        "\t\t\t\t'Email':[request.form.get(\"email\")],\n",
        "\t\t\t\t'Age':[request.form.get(\"dob\")],\n",
        "\t\t\t\t'Specialism':[request.form.get(\"specialism\")]\n",
        "\t\t\t})\n",
        "\t\t\tdf2['Age'] = pd.to_datetime(df2['Age'], dayfirst=True)\n",
        "\t\t\tnow = pd.Timestamp('now')\n",
        "\t\t\tdf2['Age'] = (now - df2['Age']).astype('<m8[Y]')\n",
        "\t\t\tdf = pd.concat([df, df2], ignore_index=True)\n",
        "\t\t\tdf.to_csv(\"NamesTwo.csv\", index=False)\n",
        "\t\t\treturn render_template('table.html', df=df, app_data=app_data)\n",
        "\n",
        "\treturn render_template('formpage.html', df=df, form=form, app_data=app_data)\n",
        " \n",
        "run_with_ngrok(app)\n",
        "app.run()"
      ],
      "metadata": {
        "colab": {
          "base_uri": "https://localhost:8080/"
        },
        "id": "_TQfHb6vgOUy",
        "outputId": "25d37cb8-27d1-49a1-c675-83398e469118"
      },
      "execution_count": null,
      "outputs": [
        {
          "output_type": "stream",
          "name": "stdout",
          "text": [
            " * Serving Flask app \"__main__\" (lazy loading)\n",
            " * Environment: production\n",
            "\u001b[31m   WARNING: This is a development server. Do not use it in a production deployment.\u001b[0m\n",
            "\u001b[2m   Use a production WSGI server instead.\u001b[0m\n",
            " * Debug mode: off\n"
          ]
        },
        {
          "output_type": "stream",
          "name": "stderr",
          "text": [
            " * Running on http://127.0.0.1:5000/ (Press CTRL+C to quit)\n"
          ]
        },
        {
          "output_type": "stream",
          "name": "stdout",
          "text": [
            " * Running on http://4816-34-90-41-234.ngrok.io\n",
            " * Traffic stats available on http://127.0.0.1:4040\n"
          ]
        },
        {
          "output_type": "stream",
          "name": "stderr",
          "text": [
            "127.0.0.1 - - [08/Mar/2022 13:01:25] \"\u001b[37mGET / HTTP/1.1\u001b[0m\" 200 -\n",
            "127.0.0.1 - - [08/Mar/2022 13:01:26] \"\u001b[33mGET /favicon.ico HTTP/1.1\u001b[0m\" 404 -\n",
            "127.0.0.1 - - [08/Mar/2022 13:01:28] \"\u001b[37mGET /table HTTP/1.1\u001b[0m\" 200 -\n",
            "127.0.0.1 - - [08/Mar/2022 13:01:30] \"\u001b[37mGET /list HTTP/1.1\u001b[0m\" 200 -\n",
            "127.0.0.1 - - [08/Mar/2022 13:01:33] \"\u001b[37mGET /formpage HTTP/1.1\u001b[0m\" 200 -\n",
            "127.0.0.1 - - [08/Mar/2022 13:01:40] \"\u001b[37mPOST /submit HTTP/1.1\u001b[0m\" 200 -\n"
          ]
        }
      ]
    }
  ]
}